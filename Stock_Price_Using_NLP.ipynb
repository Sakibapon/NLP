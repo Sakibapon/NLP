{
  "nbformat": 4,
  "nbformat_minor": 0,
  "metadata": {
    "colab": {
      "name": "Stock Price Using NLP.ipynb",
      "provenance": [],
      "authorship_tag": "ABX9TyNimVwbLfPMEndN5Eh8fXc2",
      "include_colab_link": true
    },
    "kernelspec": {
      "name": "python3",
      "display_name": "Python 3"
    },
    "accelerator": "GPU"
  },
  "cells": [
    {
      "cell_type": "markdown",
      "metadata": {
        "id": "view-in-github",
        "colab_type": "text"
      },
      "source": [
        "<a href=\"https://colab.research.google.com/github/Sakibapon/NLP/blob/master/Stock_Price_Using_NLP.ipynb\" target=\"_parent\"><img src=\"https://colab.research.google.com/assets/colab-badge.svg\" alt=\"Open In Colab\"/></a>"
      ]
    },
    {
      "cell_type": "code",
      "metadata": {
        "id": "DRstV_UZjJfd",
        "colab_type": "code",
        "colab": {}
      },
      "source": [
        "import pandas as pd\n",
        "import numpy as np"
      ],
      "execution_count": null,
      "outputs": []
    },
    {
      "cell_type": "code",
      "metadata": {
        "id": "iC-2Rbg62hHX",
        "colab_type": "code",
        "colab": {
          "base_uri": "https://localhost:8080/",
          "height": 785
        },
        "outputId": "ea878a14-3802-47a4-a463-e0fd82e7db3d"
      },
      "source": [
        "df=pd.read_csv('https://raw.githubusercontent.com/krishnaik06/Stock-Sentiment-Analysis/master/Data.csv',encoding = \"ISO-8859-1\")\n",
        "print(df.shape)\n",
        "df.head()"
      ],
      "execution_count": null,
      "outputs": [
        {
          "output_type": "stream",
          "text": [
            "(4101, 27)\n"
          ],
          "name": "stdout"
        },
        {
          "output_type": "execute_result",
          "data": {
            "text/html": [
              "<div>\n",
              "<style scoped>\n",
              "    .dataframe tbody tr th:only-of-type {\n",
              "        vertical-align: middle;\n",
              "    }\n",
              "\n",
              "    .dataframe tbody tr th {\n",
              "        vertical-align: top;\n",
              "    }\n",
              "\n",
              "    .dataframe thead th {\n",
              "        text-align: right;\n",
              "    }\n",
              "</style>\n",
              "<table border=\"1\" class=\"dataframe\">\n",
              "  <thead>\n",
              "    <tr style=\"text-align: right;\">\n",
              "      <th></th>\n",
              "      <th>Date</th>\n",
              "      <th>Label</th>\n",
              "      <th>Top1</th>\n",
              "      <th>Top2</th>\n",
              "      <th>Top3</th>\n",
              "      <th>Top4</th>\n",
              "      <th>Top5</th>\n",
              "      <th>Top6</th>\n",
              "      <th>Top7</th>\n",
              "      <th>Top8</th>\n",
              "      <th>Top9</th>\n",
              "      <th>Top10</th>\n",
              "      <th>Top11</th>\n",
              "      <th>Top12</th>\n",
              "      <th>Top13</th>\n",
              "      <th>Top14</th>\n",
              "      <th>Top15</th>\n",
              "      <th>Top16</th>\n",
              "      <th>Top17</th>\n",
              "      <th>Top18</th>\n",
              "      <th>Top19</th>\n",
              "      <th>Top20</th>\n",
              "      <th>Top21</th>\n",
              "      <th>Top22</th>\n",
              "      <th>Top23</th>\n",
              "      <th>Top24</th>\n",
              "      <th>Top25</th>\n",
              "    </tr>\n",
              "  </thead>\n",
              "  <tbody>\n",
              "    <tr>\n",
              "      <th>0</th>\n",
              "      <td>2000-01-03</td>\n",
              "      <td>0</td>\n",
              "      <td>A 'hindrance to operations': extracts from the...</td>\n",
              "      <td>Scorecard</td>\n",
              "      <td>Hughes' instant hit buoys Blues</td>\n",
              "      <td>Jack gets his skates on at ice-cold Alex</td>\n",
              "      <td>Chaos as Maracana builds up for United</td>\n",
              "      <td>Depleted Leicester prevail as Elliott spoils E...</td>\n",
              "      <td>Hungry Spurs sense rich pickings</td>\n",
              "      <td>Gunners so wide of an easy target</td>\n",
              "      <td>Derby raise a glass to Strupar's debut double</td>\n",
              "      <td>Southgate strikes, Leeds pay the penalty</td>\n",
              "      <td>Hammers hand Robson a youthful lesson</td>\n",
              "      <td>Saints party like it's 1999</td>\n",
              "      <td>Wear wolves have turned into lambs</td>\n",
              "      <td>Stump mike catches testy Gough's taunt</td>\n",
              "      <td>Langer escapes to hit 167</td>\n",
              "      <td>Flintoff injury piles on woe for England</td>\n",
              "      <td>Hunters threaten Jospin with new battle of the...</td>\n",
              "      <td>Kohl's successor drawn into scandal</td>\n",
              "      <td>The difference between men and women</td>\n",
              "      <td>Sara Denver, nurse turned solicitor</td>\n",
              "      <td>Diana's landmine crusade put Tories in a panic</td>\n",
              "      <td>Yeltsin's resignation caught opposition flat-f...</td>\n",
              "      <td>Russian roulette</td>\n",
              "      <td>Sold out</td>\n",
              "      <td>Recovering a title</td>\n",
              "    </tr>\n",
              "    <tr>\n",
              "      <th>1</th>\n",
              "      <td>2000-01-04</td>\n",
              "      <td>0</td>\n",
              "      <td>Scorecard</td>\n",
              "      <td>The best lake scene</td>\n",
              "      <td>Leader: German sleaze inquiry</td>\n",
              "      <td>Cheerio, boyo</td>\n",
              "      <td>The main recommendations</td>\n",
              "      <td>Has Cubie killed fees?</td>\n",
              "      <td>Has Cubie killed fees?</td>\n",
              "      <td>Has Cubie killed fees?</td>\n",
              "      <td>Hopkins 'furious' at Foster's lack of Hannibal...</td>\n",
              "      <td>Has Cubie killed fees?</td>\n",
              "      <td>A tale of two tails</td>\n",
              "      <td>I say what I like and I like what I say</td>\n",
              "      <td>Elbows, Eyes and Nipples</td>\n",
              "      <td>Task force to assess risk of asteroid collision</td>\n",
              "      <td>How I found myself at last</td>\n",
              "      <td>On the critical list</td>\n",
              "      <td>The timing of their lives</td>\n",
              "      <td>Dear doctor</td>\n",
              "      <td>Irish court halts IRA man's extradition to Nor...</td>\n",
              "      <td>Burundi peace initiative fades after rebels re...</td>\n",
              "      <td>PE points the way forward to the ECB</td>\n",
              "      <td>Campaigners keep up pressure on Nazi war crime...</td>\n",
              "      <td>Jane Ratcliffe</td>\n",
              "      <td>Yet more things you wouldn't know without the ...</td>\n",
              "      <td>Millennium bug fails to bite</td>\n",
              "    </tr>\n",
              "    <tr>\n",
              "      <th>2</th>\n",
              "      <td>2000-01-05</td>\n",
              "      <td>0</td>\n",
              "      <td>Coventry caught on counter by Flo</td>\n",
              "      <td>United's rivals on the road to Rio</td>\n",
              "      <td>Thatcher issues defence before trial by video</td>\n",
              "      <td>Police help Smith lay down the law at Everton</td>\n",
              "      <td>Tale of Trautmann bears two more retellings</td>\n",
              "      <td>England on the rack</td>\n",
              "      <td>Pakistan retaliate with call for video of Walsh</td>\n",
              "      <td>Cullinan continues his Cape monopoly</td>\n",
              "      <td>McGrath puts India out of their misery</td>\n",
              "      <td>Blair Witch bandwagon rolls on</td>\n",
              "      <td>Pele turns up heat on Ferguson</td>\n",
              "      <td>Party divided over Kohl slush fund scandal</td>\n",
              "      <td>Manchester United (England)</td>\n",
              "      <td>Women in record South Pole walk</td>\n",
              "      <td>Vasco da Gama (Brazil)</td>\n",
              "      <td>South Melbourne (Australia)</td>\n",
              "      <td>Necaxa (Mexico)</td>\n",
              "      <td>Real Madrid (Spain)</td>\n",
              "      <td>Raja Casablanca (Morocco)</td>\n",
              "      <td>Corinthians (Brazil)</td>\n",
              "      <td>Tony's pet project</td>\n",
              "      <td>Al Nassr (Saudi Arabia)</td>\n",
              "      <td>Ideal Holmes show</td>\n",
              "      <td>Pinochet leaves hospital after tests</td>\n",
              "      <td>Useful links</td>\n",
              "    </tr>\n",
              "    <tr>\n",
              "      <th>3</th>\n",
              "      <td>2000-01-06</td>\n",
              "      <td>1</td>\n",
              "      <td>Pilgrim knows how to progress</td>\n",
              "      <td>Thatcher facing ban</td>\n",
              "      <td>McIlroy calls for Irish fighting spirit</td>\n",
              "      <td>Leicester bin stadium blueprint</td>\n",
              "      <td>United braced for Mexican wave</td>\n",
              "      <td>Auntie back in fashion, even if the dress look...</td>\n",
              "      <td>Shoaib appeal goes to the top</td>\n",
              "      <td>Hussain hurt by 'shambles' but lays blame on e...</td>\n",
              "      <td>England's decade of disasters</td>\n",
              "      <td>Revenge is sweet for jubilant Cronje</td>\n",
              "      <td>Our choice, not theirs</td>\n",
              "      <td>Profile of former US Nazi Party officer Willia...</td>\n",
              "      <td>New evidence shows record of war crimes suspec...</td>\n",
              "      <td>The rise of the supernerds</td>\n",
              "      <td>Written on the body</td>\n",
              "      <td>Putin admits Yeltsin quit to give him a head s...</td>\n",
              "      <td>BBC worst hit as digital TV begins to bite</td>\n",
              "      <td>How much can you pay for...</td>\n",
              "      <td>Christmas glitches</td>\n",
              "      <td>Upending a table, Chopping a line and Scoring ...</td>\n",
              "      <td>Scientific evidence 'unreliable', defence claims</td>\n",
              "      <td>Fusco wins judicial review in extradition case</td>\n",
              "      <td>Rebels thwart Russian advance</td>\n",
              "      <td>Blair orders shake-up of failing NHS</td>\n",
              "      <td>Lessons of law's hard heart</td>\n",
              "    </tr>\n",
              "    <tr>\n",
              "      <th>4</th>\n",
              "      <td>2000-01-07</td>\n",
              "      <td>1</td>\n",
              "      <td>Hitches and Horlocks</td>\n",
              "      <td>Beckham off but United survive</td>\n",
              "      <td>Breast cancer screening</td>\n",
              "      <td>Alan Parker</td>\n",
              "      <td>Guardian readers: are you all whingers?</td>\n",
              "      <td>Hollywood Beyond</td>\n",
              "      <td>Ashes and diamonds</td>\n",
              "      <td>Whingers - a formidable minority</td>\n",
              "      <td>Alan Parker - part two</td>\n",
              "      <td>Thuggery, Toxins and Ties</td>\n",
              "      <td>Met faces fresh attack on race crime</td>\n",
              "      <td>Everton fans top racist 'league of shame'</td>\n",
              "      <td>Our breasts, ourselves</td>\n",
              "      <td>Russia's new boss has an extremely strange his...</td>\n",
              "      <td>Always and forever</td>\n",
              "      <td>Most everywhere:  UDIs</td>\n",
              "      <td>Most wanted:  Chloe lunettes</td>\n",
              "      <td>Return of the cane 'completely off the agenda'</td>\n",
              "      <td>From Sleepy Hollow to Greeneland</td>\n",
              "      <td>Blunkett outlines vision for over 11s</td>\n",
              "      <td>Embattled Dobson attacks 'play now, pay later'...</td>\n",
              "      <td>Doom and the Dome</td>\n",
              "      <td>What is the north-south divide?</td>\n",
              "      <td>Aitken released from jail</td>\n",
              "      <td>Gone aloft</td>\n",
              "    </tr>\n",
              "  </tbody>\n",
              "</table>\n",
              "</div>"
            ],
            "text/plain": [
              "         Date  ...                         Top25\n",
              "0  2000-01-03  ...            Recovering a title\n",
              "1  2000-01-04  ...  Millennium bug fails to bite\n",
              "2  2000-01-05  ...                  Useful links\n",
              "3  2000-01-06  ...   Lessons of law's hard heart\n",
              "4  2000-01-07  ...                    Gone aloft\n",
              "\n",
              "[5 rows x 27 columns]"
            ]
          },
          "metadata": {
            "tags": []
          },
          "execution_count": 32
        }
      ]
    },
    {
      "cell_type": "code",
      "metadata": {
        "id": "FiR80I-p2xxL",
        "colab_type": "code",
        "colab": {}
      },
      "source": [
        "train=df[df['Date']>'20150101']\n",
        "test=df[df['Date']<'20141231']"
      ],
      "execution_count": null,
      "outputs": []
    },
    {
      "cell_type": "code",
      "metadata": {
        "id": "EElOGeIpCSk2",
        "colab_type": "code",
        "colab": {
          "base_uri": "https://localhost:8080/",
          "height": 768
        },
        "outputId": "a86cb4e4-fdc3-4c24-a071-dd3cf1153be8"
      },
      "source": [
        "data=train.iloc[:,2:27]\n",
        "data.replace('[^a-zA-Z]',' ',regex=True,inplace=True)\n",
        "list1=[i for i in range(25)]\n",
        "new=[str(i)for i in list1]\n",
        "data.columns=new\n",
        "data.head()"
      ],
      "execution_count": null,
      "outputs": [
        {
          "output_type": "execute_result",
          "data": {
            "text/html": [
              "<div>\n",
              "<style scoped>\n",
              "    .dataframe tbody tr th:only-of-type {\n",
              "        vertical-align: middle;\n",
              "    }\n",
              "\n",
              "    .dataframe tbody tr th {\n",
              "        vertical-align: top;\n",
              "    }\n",
              "\n",
              "    .dataframe thead th {\n",
              "        text-align: right;\n",
              "    }\n",
              "</style>\n",
              "<table border=\"1\" class=\"dataframe\">\n",
              "  <thead>\n",
              "    <tr style=\"text-align: right;\">\n",
              "      <th></th>\n",
              "      <th>0</th>\n",
              "      <th>1</th>\n",
              "      <th>2</th>\n",
              "      <th>3</th>\n",
              "      <th>4</th>\n",
              "      <th>5</th>\n",
              "      <th>6</th>\n",
              "      <th>7</th>\n",
              "      <th>8</th>\n",
              "      <th>9</th>\n",
              "      <th>10</th>\n",
              "      <th>11</th>\n",
              "      <th>12</th>\n",
              "      <th>13</th>\n",
              "      <th>14</th>\n",
              "      <th>15</th>\n",
              "      <th>16</th>\n",
              "      <th>17</th>\n",
              "      <th>18</th>\n",
              "      <th>19</th>\n",
              "      <th>20</th>\n",
              "      <th>21</th>\n",
              "      <th>22</th>\n",
              "      <th>23</th>\n",
              "      <th>24</th>\n",
              "    </tr>\n",
              "  </thead>\n",
              "  <tbody>\n",
              "    <tr>\n",
              "      <th>3975</th>\n",
              "      <td>Saudi Arabia breaks off ties with Iran   Amid ...</td>\n",
              "      <td>Exclusive  UK Government urged to reveal its r...</td>\n",
              "      <td>China halts trading as stocks fall</td>\n",
              "      <td>Earthquake measuring     magnitude strikes India</td>\n",
              "      <td>A virus linked to shrinking newborns brains is...</td>\n",
              "      <td>New photos of SpaceX booster show sooty  but u...</td>\n",
              "      <td>Indian consulate in Afghanistan under attack b...</td>\n",
              "      <td>Iran calls off Major Hajj</td>\n",
              "      <td>Denmark responds to Swedish border checks with...</td>\n",
              "      <td>David Cameron criticised for turning  blind ey...</td>\n",
              "      <td>Denmark introduces temporary controls along Ge...</td>\n",
              "      <td>Israel Retaliates to Hezbollah bombing at Leba...</td>\n",
              "      <td>China Aims to Build    Nuclear Power Plants in...</td>\n",
              "      <td>According to obtained documents  after rape an...</td>\n",
              "      <td>Western Australian rooftop solar systems produ...</td>\n",
              "      <td>Iranian leaders website posts controversial im...</td>\n",
              "      <td>After Bahrain  Sudan expels Iranian ambassador...</td>\n",
              "      <td>Saudi Arabia to cut off all air traffic with I...</td>\n",
              "      <td>Hezbollah sets off large border bomb targeting...</td>\n",
              "      <td>Iranian diplomats given    hours to leave Saud...</td>\n",
              "      <td>BBC News  Migrant crisis  Sweden border checks...</td>\n",
              "      <td>Teachers claim the politics of austerity is le...</td>\n",
              "      <td>The Aftermath of a Muslim Cleric s Execution i...</td>\n",
              "      <td>Iran     arrested for attack on Saudi embassy</td>\n",
              "      <td>Oil prices jump over   pct on Saudi Arabia  Ir...</td>\n",
              "    </tr>\n",
              "    <tr>\n",
              "      <th>3976</th>\n",
              "      <td>Dutch government backs strong encryption  cond...</td>\n",
              "      <td>ISIS Militants Strap Bomb on   Year Old Boy an...</td>\n",
              "      <td>Canada proceeding with controversial     billi...</td>\n",
              "      <td>Brazil is heading for its worst recession sinc...</td>\n",
              "      <td>British ISIS militant s desperate plea for doc...</td>\n",
              "      <td>Malaysia s schools will start holding anti ISI...</td>\n",
              "      <td>Saudi Arabia omitted from UK death penalty str...</td>\n",
              "      <td>ISIS executes first female journalist  One of ...</td>\n",
              "      <td>The U S  Justice Department has sued Volkswage...</td>\n",
              "      <td>Leaked memo shows Saudi Arabia was fully prepa...</td>\n",
              "      <td>Sister of British extremist fighter says she w...</td>\n",
              "      <td>Mexico first country to approve Israeli drug t...</td>\n",
              "      <td>Jihadi Junior     or   year old boy in new Isl...</td>\n",
              "      <td>Nuns claim they were forced to brand themselve...</td>\n",
              "      <td>Malaysia Airlines temporarily bans checked bag...</td>\n",
              "      <td>Fat cat Tuesday  as top bosses pay overtakes ...</td>\n",
              "      <td>The United Nations special rapporteur for hum...</td>\n",
              "      <td>Merkel rejects Bavarian bid for refugee limit ...</td>\n",
              "      <td>Yemen centre for blind  hit in Saudi coalition...</td>\n",
              "      <td>Mass murderer Anders Behring Breiviks court ca...</td>\n",
              "      <td>Kuwait has recalled its ambassador to Iran in ...</td>\n",
              "      <td>Britain set for first mass strike by doctors i...</td>\n",
              "      <td>First known hacker caused power outage signals...</td>\n",
              "      <td>Kuwait becomes latest Saudi ally to downgrade ...</td>\n",
              "      <td>Do Your Cars Emit Oxygen   Indian Supreme Cou...</td>\n",
              "    </tr>\n",
              "    <tr>\n",
              "      <th>3977</th>\n",
              "      <td>China shuts down stock market after    min    ...</td>\n",
              "      <td>Armed suspect shot dead after trying to storm ...</td>\n",
              "      <td>Oil price falls below     a barrel to fresh   ...</td>\n",
              "      <td>Germans outraged by mayors advice for women af...</td>\n",
              "      <td>German public broadcaster ZDF has apologised f...</td>\n",
              "      <td>Iran accuses Saudis of bombing their embassy i...</td>\n",
              "      <td>Protesters demand Canada cancel    B Saudi con...</td>\n",
              "      <td>Snooper s charter  will cost British lives  M...</td>\n",
              "      <td>Islamic scholars from Malaysia and Indonesia i...</td>\n",
              "      <td>Turkish workshop employs Syrian minors to prod...</td>\n",
              "      <td>murdered Christians who were gang raped  d...</td>\n",
              "      <td>South Korea to restart propaganda loudspeakers...</td>\n",
              "      <td>Egypt asks Israel to keep Turkey away from Gaza</td>\n",
              "      <td>Reducing sugar content in sugar sweetened drin...</td>\n",
              "      <td>Scientists Discover Meteorite  Older Than Eart...</td>\n",
              "      <td>Rio Olympic stadium has no water or electricit...</td>\n",
              "      <td>Saudi led air strikes in Yemen hit centre for ...</td>\n",
              "      <td>Truck bomb kills    at Libyan police training ...</td>\n",
              "      <td>Israeli Tourists on Tour Bus Attacked by Maske...</td>\n",
              "      <td>Israel and China have signed a document of und...</td>\n",
              "      <td>Donald Trump threatens to pull    m investment...</td>\n",
              "      <td>Israel busts Hamas terror cell planning abduct...</td>\n",
              "      <td>A working hospital in central China was demoli...</td>\n",
              "      <td>Paris to close Champs Elysees to cars one Sund...</td>\n",
              "      <td>TransCanada Corp files US    billion lawsuit a...</td>\n",
              "    </tr>\n",
              "    <tr>\n",
              "      <th>3978</th>\n",
              "      <td>Reports of sexual assaults on women across Eur...</td>\n",
              "      <td>Shelter forcibly converted children to Christi...</td>\n",
              "      <td>Iran Has Banned Its Citizens from Making Pilgr...</td>\n",
              "      <td>Gaddafi warned Blair his ousting would  open d...</td>\n",
              "      <td>A Turkish firm has been selling fake life vest...</td>\n",
              "      <td>German minister says deportations possible in ...</td>\n",
              "      <td>Mao statue in China  pulled down by authoritie...</td>\n",
              "      <td>A poacher hunting dog in South Africa has been...</td>\n",
              "      <td>Police  used terror powers to spy on officers ...</td>\n",
              "      <td>Iran Bans All Imports from Saudi Arabia</td>\n",
              "      <td>UK has sold   bn of arms to Saudi Arabia in fi...</td>\n",
              "      <td>Slovak Prime Minister Robert Fico says migrant...</td>\n",
              "      <td>U S  Tells China That Soft Approach to North K...</td>\n",
              "      <td>year old Iceman had the stomach bug that...</td>\n",
              "      <td>New Jihadi John milked the benefit system befo...</td>\n",
              "      <td>Charlie Hebdo anniversary  free speech groups ...</td>\n",
              "      <td>Polish president signs bill putting state medi...</td>\n",
              "      <td>Mein Kampf hits stores in tense Germany</td>\n",
              "      <td>Morocco Bans WhatsApp  Skype  Viber and Other ...</td>\n",
              "      <td>The UN library announced its most checked out ...</td>\n",
              "      <td>One third of the worlds freshwater fish are at...</td>\n",
              "      <td>Nuclear weapons risk greater than in cold war ...</td>\n",
              "      <td>North Korea Claims That It Tested the  H Bomb ...</td>\n",
              "      <td>UK   DWP told woman she was not ill enough for...</td>\n",
              "      <td>Venezuela s new parliament removes pictures of...</td>\n",
              "    </tr>\n",
              "    <tr>\n",
              "      <th>3979</th>\n",
              "      <td>El Chapo  Being Taken to Same Prison He Escape...</td>\n",
              "      <td>El Chapo has been caught</td>\n",
              "      <td>At least     children abused at Catholic boys ...</td>\n",
              "      <td>North Korea has defended its latest nuclear te...</td>\n",
              "      <td>A group of United Nations  experts have warned...</td>\n",
              "      <td>Gunman opens fire on hotel popular with wester...</td>\n",
              "      <td>French Proposal to Strip Citizenship Over Terr...</td>\n",
              "      <td>Hungary will never support EU sanctions agains...</td>\n",
              "      <td>Inside Delhi s gadget graveyard where the West...</td>\n",
              "      <td>North Korea says South Korea s propaganda broa...</td>\n",
              "      <td>A blast in a crowded market in India s northea...</td>\n",
              "      <td>Great White Dies After Three Days In Aquarium</td>\n",
              "      <td>Carter Center     Guinea Worm Cases Reported i...</td>\n",
              "      <td>French daredevil falls to death while preparin...</td>\n",
              "      <td>In bid to win back tourists  Brussels wants vi...</td>\n",
              "      <td>Swiss missionary has been kidnapped from her h...</td>\n",
              "      <td>NASA s Fermi satellite completes map of the sk...</td>\n",
              "      <td>US condemns Israel expanding West Bank settlem...</td>\n",
              "      <td>Hundreds of Syrians Are Turned Back at Beirut ...</td>\n",
              "      <td>Iranian Soccer Player Jailed Over Photos With ...</td>\n",
              "      <td>Saudi Arabia executions  Philip Hammond condem...</td>\n",
              "      <td>Venezuela s Economy Czar   Inflation Does Not ...</td>\n",
              "      <td>Seychelles  in a first ever debt restructuring...</td>\n",
              "      <td>A Germans Video Likens Mao to Hitler  and Chin...</td>\n",
              "      <td>Cereal harvests across world  fall by     in  ...</td>\n",
              "    </tr>\n",
              "  </tbody>\n",
              "</table>\n",
              "</div>"
            ],
            "text/plain": [
              "                                                      0  ...                                                 24\n",
              "3975  Saudi Arabia breaks off ties with Iran   Amid ...  ...  Oil prices jump over   pct on Saudi Arabia  Ir...\n",
              "3976  Dutch government backs strong encryption  cond...  ...   Do Your Cars Emit Oxygen   Indian Supreme Cou...\n",
              "3977  China shuts down stock market after    min    ...  ...  TransCanada Corp files US    billion lawsuit a...\n",
              "3978  Reports of sexual assaults on women across Eur...  ...  Venezuela s new parliament removes pictures of...\n",
              "3979  El Chapo  Being Taken to Same Prison He Escape...  ...  Cereal harvests across world  fall by     in  ...\n",
              "\n",
              "[5 rows x 25 columns]"
            ]
          },
          "metadata": {
            "tags": []
          },
          "execution_count": 42
        }
      ]
    },
    {
      "cell_type": "code",
      "metadata": {
        "id": "2cFHvy-vC8ci",
        "colab_type": "code",
        "colab": {}
      },
      "source": [
        "for nw in new:\n",
        "  data[nw]=data[nw].str.lower()\n",
        "#data.head()"
      ],
      "execution_count": null,
      "outputs": []
    },
    {
      "cell_type": "code",
      "metadata": {
        "id": "ygterdcxDaCW",
        "colab_type": "code",
        "colab": {
          "base_uri": "https://localhost:8080/",
          "height": 137
        },
        "outputId": "f76c23aa-a9fb-4b3e-d46e-fee8bf7fde21"
      },
      "source": [
        "' '.join(str(x)for x in data.iloc[1,0:25])"
      ],
      "execution_count": null,
      "outputs": [
        {
          "output_type": "execute_result",
          "data": {
            "application/vnd.google.colaboratory.intrinsic": {
              "type": "string"
            },
            "text/plain": [
              "'dutch government backs strong encryption  condemns backdoors isis militants strap bomb on   year old boy and blow him up after killing the childs father canada proceeding with controversial     billion saudi arms deal despite condemning executions brazil is heading for its worst recession since      british isis militant s desperate plea for doctors to join the terror group as he admits many fighters are dying due to poor treatment in latest sign of the group s collapse malaysia s schools will start holding anti isis talks for kids saudi arabia omitted from uk death penalty strategy  to safeguard defence contracts    kingdom is only major death penalty state missing from document setting out uk strategy to curb executions isis executes first female journalist  one of her last posts complained of limits on wifi the u s  justice department has sued volkswagen for up to     billion for allegedly violating environmental laws   five times regulators  initial estimate and a reminder of the carmaker s problems nearly four months after its emissions scandal broke  leaked memo shows saudi arabia was fully prepared for executions backlash  and went ahead anyway   middle east   news sister of british extremist fighter says she will  kill him myself  if he is new jihadi john mexico first country to approve israeli drug that cures early stage prostate cancer jihadi junior     or   year old boy in new islamic state video  identified by grandfather in london nuns claim they were forced to brand themselves with fire  eat out of date food and write orders of obedience in their own blood in mafia style initiations at italian convent malaysia airlines temporarily bans checked baggage for flights to europe due to  safety  strong head winds   fat cat tuesday  as top bosses pay overtakes uk workers  the united nations special rapporteur for human rights in the palestinian territories  makarim wibisono  submitted his resignation to the president of the human rights council on monday  citing israels refusal to grant him access to the west bank and gaza   merkel rejects bavarian bid for refugee limit  amid ongoing tensions with her allies in bavaria  angela merkel has refused their plan to place a cap on incoming aslyum seekers  the proposed upper limit of         for      was  not the chancellor s position   yemen centre for blind  hit in saudi coalition air raid  mass murderer anders behring breiviks court case against the norwegian state over his prison conditions  which he likens to torture  will take place in the jail where he is being held breivik killed    people because he was opposed to norways multiculturalism  kuwait has recalled its ambassador to iran in the latest episode of a regional diplomatic crisis following the execution of a prominent religious leader in saudi arabia  the official kuwait news agency reported  britain set for first mass strike by doctors in    years first known hacker caused power outage signals troubling escalation kuwait becomes latest saudi ally to downgrade ties with iran  do your cars emit oxygen   indian supreme court to car manufacturers including toyota and mercedes  who want ban on their larger diesel cars in delhi to be revoked'"
            ]
          },
          "metadata": {
            "tags": []
          },
          "execution_count": 45
        }
      ]
    },
    {
      "cell_type": "code",
      "metadata": {
        "id": "yFEF1A9gDr5n",
        "colab_type": "code",
        "colab": {}
      },
      "source": [
        "headlines=[]\n",
        "for row in range(len(data)):\n",
        "  headlines.append(' '.join(str(x) for x in data.iloc[row,0:25]))"
      ],
      "execution_count": null,
      "outputs": []
    },
    {
      "cell_type": "code",
      "metadata": {
        "id": "l47tfj_uEY_Q",
        "colab_type": "code",
        "colab": {
          "base_uri": "https://localhost:8080/",
          "height": 137
        },
        "outputId": "e3f79667-b8de-4430-9728-5b2e39b1b358"
      },
      "source": [
        "headlines[0]"
      ],
      "execution_count": null,
      "outputs": [
        {
          "output_type": "execute_result",
          "data": {
            "application/vnd.google.colaboratory.intrinsic": {
              "type": "string"
            },
            "text/plain": [
              "'saudi arabia breaks off ties with iran   amid row over saudi execution of shia cleric exclusive  uk government urged to reveal its role in getting saudi arabia onto un human rights council   liberal democrat and green party leaders call on david cameron to reveal whether british government supported saudi bid china halts trading as stocks fall    earthquake measuring     magnitude strikes india a virus linked to shrinking newborns brains is spreading rapidly beyond brazil  epidemic of zika virus suspected  new photos of spacex booster show sooty  but undamaged rocket indian consulate in afghanistan under attack by gunmen iran calls off major hajj denmark responds to swedish border checks with own controls   if the european union cannot protect the external border you will see more and more countries forced to introduce temporary border controls     danish pm david cameron criticised for turning  blind eye  to mass executions in saudi arabia denmark introduces temporary controls along german border israel retaliates to hezbollah bombing at lebanon border   idf currently firing artillery at hezbollah and lebanese army positions china aims to build    nuclear power plants in upcoming   years  generating    gigawatts according to obtained documents  after rape and forcing inmates to do oral sex  british soldiers could face charges for possible war crimes committed in iraq western australian rooftop solar systems producing more energy than its biggest turbine iranian leaders website posts controversial image comparing saudi arabia to isis after bahrain  sudan expels iranian ambassador from khartoum saudi arabia to cut off all air traffic with iran  saudi fm hezbollah sets off large border bomb targeting idf heavy vehicles iranian diplomats given    hours to leave saudi arabia bbc news  migrant crisis  sweden border checks come into force teachers claim the politics of austerity is leaving scottish schoolchildren so hungry they have to steal from their classmates just to be able to eat  the aftermath of a muslim cleric s execution in saudi arabia   al nimrs death  which al nimrs brother told the associated press came as a surprise to even their own family  was seen by some as a warning to individuals  particularly shiites  against seeking political reforms  iran     arrested for attack on saudi embassy oil prices jump over   pct on saudi arabia  iran tensions'"
            ]
          },
          "metadata": {
            "tags": []
          },
          "execution_count": 52
        }
      ]
    },
    {
      "cell_type": "code",
      "metadata": {
        "id": "LOhktwjKEo5O",
        "colab_type": "code",
        "colab": {}
      },
      "source": [
        "from sklearn.feature_extraction.text import CountVectorizer\n",
        "from sklearn.ensemble import RandomForestClassifier"
      ],
      "execution_count": null,
      "outputs": []
    },
    {
      "cell_type": "code",
      "metadata": {
        "id": "cg_mgRIpE51x",
        "colab_type": "code",
        "colab": {}
      },
      "source": [
        "cv=CountVectorizer(ngram_range=(2,2))\n",
        "ab=cv.fit_transform(headlines)"
      ],
      "execution_count": null,
      "outputs": []
    },
    {
      "cell_type": "code",
      "metadata": {
        "id": "TaJrTxnSE54w",
        "colab_type": "code",
        "colab": {
          "base_uri": "https://localhost:8080/",
          "height": 153
        },
        "outputId": "2081ad63-dddb-49f6-b7c7-44910d9cc7bc"
      },
      "source": [
        "rf=RandomForestClassifier(n_estimators=200,criterion='entropy')\n",
        "rf.fit(ab,train['Label'])"
      ],
      "execution_count": null,
      "outputs": [
        {
          "output_type": "execute_result",
          "data": {
            "text/plain": [
              "RandomForestClassifier(bootstrap=True, ccp_alpha=0.0, class_weight=None,\n",
              "                       criterion='entropy', max_depth=None, max_features='auto',\n",
              "                       max_leaf_nodes=None, max_samples=None,\n",
              "                       min_impurity_decrease=0.0, min_impurity_split=None,\n",
              "                       min_samples_leaf=1, min_samples_split=2,\n",
              "                       min_weight_fraction_leaf=0.0, n_estimators=200,\n",
              "                       n_jobs=None, oob_score=False, random_state=None,\n",
              "                       verbose=0, warm_start=False)"
            ]
          },
          "metadata": {
            "tags": []
          },
          "execution_count": 57
        }
      ]
    },
    {
      "cell_type": "code",
      "metadata": {
        "id": "tcGwnXL5Fbi-",
        "colab_type": "code",
        "colab": {}
      },
      "source": [
        "from sklearn.metrics import accuracy_score,classification_report"
      ],
      "execution_count": null,
      "outputs": []
    },
    {
      "cell_type": "code",
      "metadata": {
        "id": "3H9GtDE-F34X",
        "colab_type": "code",
        "colab": {}
      },
      "source": [
        "test_transform= []\n",
        "for row in range(0,len(test.index)):\n",
        "    test_transform.append(' '.join(str(x) for x in test.iloc[row,2:27]))\n",
        "test_dataset = cv.transform(test_transform)"
      ],
      "execution_count": null,
      "outputs": []
    },
    {
      "cell_type": "code",
      "metadata": {
        "id": "3Ga4_O_1F37x",
        "colab_type": "code",
        "colab": {}
      },
      "source": [
        "predictions = rf.predict(test_dataset)"
      ],
      "execution_count": null,
      "outputs": []
    },
    {
      "cell_type": "code",
      "metadata": {
        "id": "oRm2A3vgG9b9",
        "colab_type": "code",
        "colab": {
          "base_uri": "https://localhost:8080/",
          "height": 34
        },
        "outputId": "baf47304-25fe-4377-a6e9-d30c23df33e7"
      },
      "source": [
        "score=accuracy_score(test['Label'],predictions)\n",
        "score"
      ],
      "execution_count": null,
      "outputs": [
        {
          "output_type": "execute_result",
          "data": {
            "text/plain": [
              "0.5302175664786463"
            ]
          },
          "metadata": {
            "tags": []
          },
          "execution_count": 69
        }
      ]
    },
    {
      "cell_type": "code",
      "metadata": {
        "id": "UUvFhY-sHZN4",
        "colab_type": "code",
        "colab": {
          "base_uri": "https://localhost:8080/",
          "height": 224
        },
        "outputId": "ac567072-4fc3-4ebe-df5a-2da2a89d4b6c"
      },
      "source": [
        "report=classification_report(test['Label'],predictions)\n",
        "print(report)"
      ],
      "execution_count": null,
      "outputs": [
        {
          "output_type": "stream",
          "text": [
            "              precision    recall  f1-score   support\n",
            "\n",
            "           0       0.00      0.00      0.00      1749\n",
            "           1       0.53      1.00      0.69      1974\n",
            "\n",
            "    accuracy                           0.53      3723\n",
            "   macro avg       0.27      0.50      0.35      3723\n",
            "weighted avg       0.28      0.53      0.37      3723\n",
            "\n"
          ],
          "name": "stdout"
        },
        {
          "output_type": "stream",
          "text": [
            "/usr/local/lib/python3.6/dist-packages/sklearn/metrics/_classification.py:1272: UndefinedMetricWarning: Precision and F-score are ill-defined and being set to 0.0 in labels with no predicted samples. Use `zero_division` parameter to control this behavior.\n",
            "  _warn_prf(average, modifier, msg_start, len(result))\n"
          ],
          "name": "stderr"
        }
      ]
    }
  ]
}